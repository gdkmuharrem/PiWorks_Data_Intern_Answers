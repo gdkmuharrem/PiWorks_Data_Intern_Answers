{
 "cells": [
  {
   "cell_type": "markdown",
   "id": "28642ad2",
   "metadata": {},
   "source": [
    "# Answer 4,5"
   ]
  },
  {
   "cell_type": "code",
   "execution_count": 1,
   "id": "ce628c01",
   "metadata": {},
   "outputs": [],
   "source": [
    "import pandas as pd\n",
    "df = pd.read_csv('country_vaccination_stats.csv')\n",
    "for country in df['country'].unique():\n",
    "    country_rows = df[df['country'] == country]\n",
    "    if country_rows['daily_vaccinations'].isnull().all():\n",
    "        df.loc[df['country'] == country, 'daily_vaccinations'] = 0\n",
    "    elif country_rows['daily_vaccinations'].isnull().any():\n",
    "        min_value = country_rows['daily_vaccinations'].min()\n",
    "        df.loc[(df['country'] == country) & (df['daily_vaccinations'].isnull()), 'daily_vaccinations'] = min_value\n",
    "df['daily_vaccinations'] = df['daily_vaccinations'].astype(int)\n",
    "df.to_csv(\"country_vaccination_stats_answer_4_5.csv\", index=False)"
   ]
  }
 ],
 "metadata": {
  "kernelspec": {
   "display_name": "Python 3 (ipykernel)",
   "language": "python",
   "name": "python3"
  },
  "language_info": {
   "codemirror_mode": {
    "name": "ipython",
    "version": 3
   },
   "file_extension": ".py",
   "mimetype": "text/x-python",
   "name": "python",
   "nbconvert_exporter": "python",
   "pygments_lexer": "ipython3",
   "version": "3.11.7"
  }
 },
 "nbformat": 4,
 "nbformat_minor": 5
}
