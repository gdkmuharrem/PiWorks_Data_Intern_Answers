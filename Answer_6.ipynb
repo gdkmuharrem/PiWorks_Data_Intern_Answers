{
 "cells": [
  {
   "cell_type": "markdown",
   "id": "afc4fc41",
   "metadata": {},
   "source": [
    "# Answer 6"
   ]
  },
  {
   "cell_type": "code",
   "execution_count": 2,
   "id": "605fdad2",
   "metadata": {},
   "outputs": [
    {
     "name": "stdout",
     "output_type": "stream",
     "text": [
      "Top 3 Countries with Highest Average Daily Vaccinations:\n",
      "United States: 514833.70\n",
      "China: 327220.08\n",
      "India: 171920.55\n"
     ]
    }
   ],
   "source": [
    "import pandas as pd\n",
    "df = pd.read_csv(\"country_vaccination_stats_answer_4_5.csv\")\n",
    "country_avg_vaccinations = {}\n",
    "for country in df['country'].unique():\n",
    "    country_avg_vaccinations[country] = df[df['country'] == country]['daily_vaccinations'].mean()\n",
    "sorted_countries = sorted(country_avg_vaccinations.items(), key=lambda x: x[1], reverse=True)\n",
    "top_3_countries = sorted_countries[:3]\n",
    "print(\"Top 3 Countries with Highest Average Daily Vaccinations:\")\n",
    "for country, avg_vaccinations in top_3_countries:\n",
    "    print(f\"{country}: {avg_vaccinations:.2f}\")"
   ]
  }
 ],
 "metadata": {
  "kernelspec": {
   "display_name": "Python 3 (ipykernel)",
   "language": "python",
   "name": "python3"
  },
  "language_info": {
   "codemirror_mode": {
    "name": "ipython",
    "version": 3
   },
   "file_extension": ".py",
   "mimetype": "text/x-python",
   "name": "python",
   "nbconvert_exporter": "python",
   "pygments_lexer": "ipython3",
   "version": "3.11.7"
  }
 },
 "nbformat": 4,
 "nbformat_minor": 5
}
