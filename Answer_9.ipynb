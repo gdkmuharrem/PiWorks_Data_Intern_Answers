{
 "cells": [
  {
   "cell_type": "markdown",
   "id": "e35c5498",
   "metadata": {},
   "source": [
    "# Answer 9"
   ]
  },
  {
   "cell_type": "markdown",
   "id": "e826f9aa",
   "metadata": {},
   "source": [
    "#### The get_data_from_database function is a placeholder for fetching data from a database. It returns a list of dictionaries, each representing a record from the database.\n",
    "#### The extract_url function takes a device type and an access link, and uses regular expressions to extract the pure URL information from the access link.\n",
    "#### The data is fetched from the database using the get_data_from_database function.\n",
    "#### For each record in the data, the device type and access link are extracted, and the pure URL information is obtained using the extract_url function.\n",
    "#### Finally, the pure URL information for each device type is printed."
   ]
  },
  {
   "cell_type": "code",
   "execution_count": 11,
   "id": "2c948997",
   "metadata": {},
   "outputs": [
    {
     "name": "stdout",
     "output_type": "stream",
     "text": [
      "Pure URL for AXO145: xcd32112.smart_meter.com\n",
      "Pure URL for TRU151: txh67.dia_meter.com\n",
      "Pure URL for ZOD231: yt5495.smart_meter.com\n",
      "Pure URL for YRT326: ret323_tru.crown.com\n",
      "Pure URL for LWR245: luwr3243.celcius.com\n"
     ]
    }
   ],
   "source": [
    "import re\n",
    "\n",
    "# Function to fetch data from the database\n",
    "def get_data_from_database():\n",
    "    # Here we are returning a database-like list as default\n",
    "    # You can adjust this function according to your actual database\n",
    "    return [\n",
    "        {\"Device_Type\": \"AXO145\", \"Stats_Access_Link\": \"<url>https://xcd32112.smart_meter.com</url>\"},\n",
    "        {\"Device_Type\": \"TRU151\", \"Stats_Access_Link\": \"<url>http://tXh67.dia_meter.com</url>\"},\n",
    "        {\"Device_Type\": \"ZOD231\", \"Stats_Access_Link\": \"<url>http://yT5495.smart_meter.com</url>\"},\n",
    "        {\"Device_Type\": \"YRT326\", \"Stats_Access_Link\": \"<url>https://ret323_TRu.crown.com</url>\"},\n",
    "        {\"Device_Type\": \"LWR245\", \"Stats_Access_Link\": \"<url>https://luwr3243.celcius.com</url>\"}\n",
    "    ]\n",
    "\n",
    "# Function to extract pure URL information\n",
    "def extract_url(device_type, access_link):\n",
    "    pattern = r'<url>https?://([^<]+)</url>'\n",
    "    match = re.search(pattern, access_link.lower())\n",
    "    if match:\n",
    "        return match.group(1)\n",
    "    else:\n",
    "        return \"URL not found\"\n",
    "\n",
    "# Fetch data from the database\n",
    "data = get_data_from_database()\n",
    "\n",
    "# Extract pure URL information for each device type and print it\n",
    "for item in data:\n",
    "    device_type = item[\"Device_Type\"]\n",
    "    access_link = item[\"Stats_Access_Link\"]\n",
    "    url = extract_url(device_type, access_link)\n",
    "    print(f\"Pure URL for {device_type}: {url}\")\n"
   ]
  }
 ],
 "metadata": {
  "kernelspec": {
   "display_name": "Python 3 (ipykernel)",
   "language": "python",
   "name": "python3"
  },
  "language_info": {
   "codemirror_mode": {
    "name": "ipython",
    "version": 3
   },
   "file_extension": ".py",
   "mimetype": "text/x-python",
   "name": "python",
   "nbconvert_exporter": "python",
   "pygments_lexer": "ipython3",
   "version": "3.11.7"
  }
 },
 "nbformat": 4,
 "nbformat_minor": 5
}
